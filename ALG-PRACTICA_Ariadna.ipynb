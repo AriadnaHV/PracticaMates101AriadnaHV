{
 "cells": [
  {
   "cell_type": "markdown",
   "id": "9b439de7",
   "metadata": {},
   "source": [
    "# Módulo de Matemáticas 101: práctica\n",
    "\n",
    "Vamos a poner de nuevo en práctica lo que hemos visto en este módulo. La práctica se centra en la regresión lineal (¡tema muy importante!) y podéis preguntarme las dudas que tengáis por Discord. ¡Mucha suerte!"
   ]
  },
  {
   "cell_type": "markdown",
   "id": "3d586f09",
   "metadata": {},
   "source": [
    "## 1. Regresión lineal con mínimos cuadrados\n",
    "\n",
    "En este ejercicio vamos a implementar la forma matricial de la regresión lineal con el método de los mínimos cuadrados. Para ello, tendrás que:\n",
    "\n",
    "- Explorar un dataset\n",
    "- Implementar la regresión lineal\n",
    "- Aplicarla a un dataset concreto\n",
    "\n",
    "Como recordatorio, los valores de los pesos $\\widehat{w}$ vienen dados por:\n",
    "\n",
    "<center>$\\widehat{w} = (X^T X)^{-1}X^T y,$</center>\n",
    "\n",
    "Donde $y$ es la variable a predecir y $X$ la matriz de features (NOTA: revisa cómo se define en los apuntes). Sabemos que los pesos van a ser los parámetros de la ecuación lineal que estamos intentando ajustar y tendremos uno por cada variable de entrada que usemos y además un término independiente o bias."
   ]
  },
  {
   "cell_type": "markdown",
   "id": "e574f77d",
   "metadata": {},
   "source": [
    "### 1.1 Carga del dataset y exploración de datos\n",
    "\n",
    "Vamos a usar el dataset de [Auto MPG](https://archive.ics.uci.edu/dataset/9/auto+mpg) que podemos encontrar en el [repositorio de Machine learning de UC Irvine](https://archive.ics.uci.edu/). Lo primero, vamos a familiarizarnos con los datos.\n",
    "\n",
    "En el propio repositorio nos indican cómo descargar el dataset con su librería (podemos consultar el código fuente si queremos)."
   ]
  },
  {
   "cell_type": "code",
   "execution_count": 17,
   "id": "4b5aac08",
   "metadata": {},
   "outputs": [
    {
     "name": "stdout",
     "output_type": "stream",
     "text": [
      "Requirement already satisfied: ucimlrepo in ./venv_challenge/lib/python3.12/site-packages (0.0.7)\n",
      "Requirement already satisfied: pandas>=1.0.0 in ./venv_challenge/lib/python3.12/site-packages (from ucimlrepo) (2.3.1)\n",
      "Requirement already satisfied: certifi>=2020.12.5 in ./venv_challenge/lib/python3.12/site-packages (from ucimlrepo) (2025.7.9)\n",
      "Requirement already satisfied: numpy>=1.26.0 in ./venv_challenge/lib/python3.12/site-packages (from pandas>=1.0.0->ucimlrepo) (2.3.1)\n",
      "Requirement already satisfied: python-dateutil>=2.8.2 in ./venv_challenge/lib/python3.12/site-packages (from pandas>=1.0.0->ucimlrepo) (2.9.0.post0)\n",
      "Requirement already satisfied: pytz>=2020.1 in ./venv_challenge/lib/python3.12/site-packages (from pandas>=1.0.0->ucimlrepo) (2025.2)\n",
      "Requirement already satisfied: tzdata>=2022.7 in ./venv_challenge/lib/python3.12/site-packages (from pandas>=1.0.0->ucimlrepo) (2025.2)\n",
      "Requirement already satisfied: six>=1.5 in ./venv_challenge/lib/python3.12/site-packages (from python-dateutil>=2.8.2->pandas>=1.0.0->ucimlrepo) (1.17.0)\n"
     ]
    }
   ],
   "source": [
    "!pip install ucimlrepo"
   ]
  },
  {
   "cell_type": "code",
   "execution_count": 18,
   "id": "d69d9185",
   "metadata": {},
   "outputs": [
    {
     "name": "stdout",
     "output_type": "stream",
     "text": [
      "{'uci_id': 9, 'name': 'Auto MPG', 'repository_url': 'https://archive.ics.uci.edu/dataset/9/auto+mpg', 'data_url': 'https://archive.ics.uci.edu/static/public/9/data.csv', 'abstract': 'Revised from CMU StatLib library, data concerns city-cycle fuel consumption', 'area': 'Other', 'tasks': ['Regression'], 'characteristics': ['Multivariate'], 'num_instances': 398, 'num_features': 7, 'feature_types': ['Real', 'Categorical', 'Integer'], 'demographics': [], 'target_col': ['mpg'], 'index_col': ['car_name'], 'has_missing_values': 'yes', 'missing_values_symbol': 'NaN', 'year_of_dataset_creation': 1993, 'last_updated': 'Thu Aug 10 2023', 'dataset_doi': '10.24432/C5859H', 'creators': ['R. Quinlan'], 'intro_paper': None, 'additional_info': {'summary': 'This dataset is a slightly modified version of the dataset provided in the StatLib library.  In line with the use by Ross Quinlan (1993) in predicting the attribute \"mpg\", 8 of the original instances were removed because they had unknown values for the \"mpg\" attribute.  The original dataset is available in the file \"auto-mpg.data-original\".\\r\\n\\r\\n\"The data concerns city-cycle fuel consumption in miles per gallon, to be predicted in terms of 3 multivalued discrete and 5 continuous attributes.\" (Quinlan, 1993)', 'purpose': None, 'funded_by': None, 'instances_represent': None, 'recommended_data_splits': None, 'sensitive_data': None, 'preprocessing_description': None, 'variable_info': '    1. mpg:           continuous\\r\\n    2. cylinders:     multi-valued discrete\\r\\n    3. displacement:  continuous\\r\\n    4. horsepower:    continuous\\r\\n    5. weight:        continuous\\r\\n    6. acceleration:  continuous\\r\\n    7. model year:    multi-valued discrete\\r\\n    8. origin:        multi-valued discrete\\r\\n    9. car name:      string (unique for each instance)', 'citation': None}}\n",
      "           name     role         type demographic description units  \\\n",
      "0  displacement  Feature   Continuous        None        None  None   \n",
      "1           mpg   Target   Continuous        None        None  None   \n",
      "2     cylinders  Feature      Integer        None        None  None   \n",
      "3    horsepower  Feature   Continuous        None        None  None   \n",
      "4        weight  Feature   Continuous        None        None  None   \n",
      "5  acceleration  Feature   Continuous        None        None  None   \n",
      "6    model_year  Feature      Integer        None        None  None   \n",
      "7        origin  Feature      Integer        None        None  None   \n",
      "8      car_name       ID  Categorical        None        None  None   \n",
      "\n",
      "  missing_values  \n",
      "0             no  \n",
      "1             no  \n",
      "2             no  \n",
      "3            yes  \n",
      "4             no  \n",
      "5             no  \n",
      "6             no  \n",
      "7             no  \n",
      "8             no  \n"
     ]
    }
   ],
   "source": [
    "from ucimlrepo import fetch_ucirepo \n",
    "  \n",
    "# fetch dataset \n",
    "auto_mpg = fetch_ucirepo(id=9) \n",
    "  \n",
    "# data (as pandas dataframes) \n",
    "X = auto_mpg.data.features \n",
    "y = auto_mpg.data.targets \n",
    "  \n",
    "# metadata \n",
    "print(auto_mpg.metadata) \n",
    "  \n",
    "# variable information \n",
    "print(auto_mpg.variables) \n"
   ]
  },
  {
   "cell_type": "markdown",
   "id": "5f7f79e8",
   "metadata": {},
   "source": [
    "Con la función `head` de Pandas podemos ver las primeras filas del dataset."
   ]
  },
  {
   "cell_type": "code",
   "execution_count": 19,
   "id": "242091db",
   "metadata": {
    "scrolled": true
   },
   "outputs": [
    {
     "data": {
      "text/html": [
       "<div>\n",
       "<style scoped>\n",
       "    .dataframe tbody tr th:only-of-type {\n",
       "        vertical-align: middle;\n",
       "    }\n",
       "\n",
       "    .dataframe tbody tr th {\n",
       "        vertical-align: top;\n",
       "    }\n",
       "\n",
       "    .dataframe thead th {\n",
       "        text-align: right;\n",
       "    }\n",
       "</style>\n",
       "<table border=\"1\" class=\"dataframe\">\n",
       "  <thead>\n",
       "    <tr style=\"text-align: right;\">\n",
       "      <th></th>\n",
       "      <th>displacement</th>\n",
       "      <th>cylinders</th>\n",
       "      <th>horsepower</th>\n",
       "      <th>weight</th>\n",
       "      <th>acceleration</th>\n",
       "      <th>model_year</th>\n",
       "      <th>origin</th>\n",
       "    </tr>\n",
       "  </thead>\n",
       "  <tbody>\n",
       "    <tr>\n",
       "      <th>0</th>\n",
       "      <td>307.0</td>\n",
       "      <td>8</td>\n",
       "      <td>130.0</td>\n",
       "      <td>3504</td>\n",
       "      <td>12.0</td>\n",
       "      <td>70</td>\n",
       "      <td>1</td>\n",
       "    </tr>\n",
       "    <tr>\n",
       "      <th>1</th>\n",
       "      <td>350.0</td>\n",
       "      <td>8</td>\n",
       "      <td>165.0</td>\n",
       "      <td>3693</td>\n",
       "      <td>11.5</td>\n",
       "      <td>70</td>\n",
       "      <td>1</td>\n",
       "    </tr>\n",
       "    <tr>\n",
       "      <th>2</th>\n",
       "      <td>318.0</td>\n",
       "      <td>8</td>\n",
       "      <td>150.0</td>\n",
       "      <td>3436</td>\n",
       "      <td>11.0</td>\n",
       "      <td>70</td>\n",
       "      <td>1</td>\n",
       "    </tr>\n",
       "    <tr>\n",
       "      <th>3</th>\n",
       "      <td>304.0</td>\n",
       "      <td>8</td>\n",
       "      <td>150.0</td>\n",
       "      <td>3433</td>\n",
       "      <td>12.0</td>\n",
       "      <td>70</td>\n",
       "      <td>1</td>\n",
       "    </tr>\n",
       "    <tr>\n",
       "      <th>4</th>\n",
       "      <td>302.0</td>\n",
       "      <td>8</td>\n",
       "      <td>140.0</td>\n",
       "      <td>3449</td>\n",
       "      <td>10.5</td>\n",
       "      <td>70</td>\n",
       "      <td>1</td>\n",
       "    </tr>\n",
       "  </tbody>\n",
       "</table>\n",
       "</div>"
      ],
      "text/plain": [
       "   displacement  cylinders  horsepower  weight  acceleration  model_year  \\\n",
       "0         307.0          8       130.0    3504          12.0          70   \n",
       "1         350.0          8       165.0    3693          11.5          70   \n",
       "2         318.0          8       150.0    3436          11.0          70   \n",
       "3         304.0          8       150.0    3433          12.0          70   \n",
       "4         302.0          8       140.0    3449          10.5          70   \n",
       "\n",
       "   origin  \n",
       "0       1  \n",
       "1       1  \n",
       "2       1  \n",
       "3       1  \n",
       "4       1  "
      ]
     },
     "execution_count": 19,
     "metadata": {},
     "output_type": "execute_result"
    }
   ],
   "source": [
    "X.head()"
   ]
  },
  {
   "cell_type": "code",
   "execution_count": 20,
   "id": "bc6bfba5",
   "metadata": {},
   "outputs": [
    {
     "data": {
      "text/html": [
       "<div>\n",
       "<style scoped>\n",
       "    .dataframe tbody tr th:only-of-type {\n",
       "        vertical-align: middle;\n",
       "    }\n",
       "\n",
       "    .dataframe tbody tr th {\n",
       "        vertical-align: top;\n",
       "    }\n",
       "\n",
       "    .dataframe thead th {\n",
       "        text-align: right;\n",
       "    }\n",
       "</style>\n",
       "<table border=\"1\" class=\"dataframe\">\n",
       "  <thead>\n",
       "    <tr style=\"text-align: right;\">\n",
       "      <th></th>\n",
       "      <th>mpg</th>\n",
       "    </tr>\n",
       "  </thead>\n",
       "  <tbody>\n",
       "    <tr>\n",
       "      <th>0</th>\n",
       "      <td>18.0</td>\n",
       "    </tr>\n",
       "    <tr>\n",
       "      <th>1</th>\n",
       "      <td>15.0</td>\n",
       "    </tr>\n",
       "    <tr>\n",
       "      <th>2</th>\n",
       "      <td>18.0</td>\n",
       "    </tr>\n",
       "    <tr>\n",
       "      <th>3</th>\n",
       "      <td>16.0</td>\n",
       "    </tr>\n",
       "    <tr>\n",
       "      <th>4</th>\n",
       "      <td>17.0</td>\n",
       "    </tr>\n",
       "  </tbody>\n",
       "</table>\n",
       "</div>"
      ],
      "text/plain": [
       "    mpg\n",
       "0  18.0\n",
       "1  15.0\n",
       "2  18.0\n",
       "3  16.0\n",
       "4  17.0"
      ]
     },
     "execution_count": 20,
     "metadata": {},
     "output_type": "execute_result"
    }
   ],
   "source": [
    "y.head()"
   ]
  },
  {
   "cell_type": "markdown",
   "id": "d3200c25-5a69-4971-9e21-604f063e73de",
   "metadata": {},
   "source": [
    "En este punto, puedes hacer cualquier otro análisis exploratorio que creas conveniente."
   ]
  },
  {
   "cell_type": "code",
   "execution_count": 21,
   "id": "04a25aad-b874-4499-9104-979f7e21f27d",
   "metadata": {},
   "outputs": [
    {
     "name": "stdout",
     "output_type": "stream",
     "text": [
      "(398, 7)\n",
      "(398, 1)\n",
      "<class 'pandas.core.frame.DataFrame'>\n",
      "<class 'pandas.core.frame.DataFrame'>\n"
     ]
    }
   ],
   "source": [
    "import numpy as np\n",
    "import pandas as pd\n",
    "\n",
    "print (X.shape)\n",
    "print (y.shape)\n",
    "\n",
    "#fila_210 = X.loc[209, ['cylinders', 'acceleration']]\n",
    "#print(fila_210)\n",
    "\n",
    "print (type(X))\n",
    "print (type(y))\n"
   ]
  },
  {
   "cell_type": "code",
   "execution_count": 22,
   "id": "e28646b2-30f8-4788-b9ad-93f22227f094",
   "metadata": {},
   "outputs": [
    {
     "data": {
      "text/html": [
       "<div>\n",
       "<style scoped>\n",
       "    .dataframe tbody tr th:only-of-type {\n",
       "        vertical-align: middle;\n",
       "    }\n",
       "\n",
       "    .dataframe tbody tr th {\n",
       "        vertical-align: top;\n",
       "    }\n",
       "\n",
       "    .dataframe thead th {\n",
       "        text-align: right;\n",
       "    }\n",
       "</style>\n",
       "<table border=\"1\" class=\"dataframe\">\n",
       "  <thead>\n",
       "    <tr style=\"text-align: right;\">\n",
       "      <th></th>\n",
       "      <th>displacement</th>\n",
       "      <th>cylinders</th>\n",
       "      <th>horsepower</th>\n",
       "      <th>weight</th>\n",
       "      <th>acceleration</th>\n",
       "      <th>model_year</th>\n",
       "      <th>origin</th>\n",
       "    </tr>\n",
       "  </thead>\n",
       "  <tbody>\n",
       "    <tr>\n",
       "      <th>393</th>\n",
       "      <td>140.0</td>\n",
       "      <td>4</td>\n",
       "      <td>86.0</td>\n",
       "      <td>2790</td>\n",
       "      <td>15.6</td>\n",
       "      <td>82</td>\n",
       "      <td>1</td>\n",
       "    </tr>\n",
       "    <tr>\n",
       "      <th>394</th>\n",
       "      <td>97.0</td>\n",
       "      <td>4</td>\n",
       "      <td>52.0</td>\n",
       "      <td>2130</td>\n",
       "      <td>24.6</td>\n",
       "      <td>82</td>\n",
       "      <td>2</td>\n",
       "    </tr>\n",
       "    <tr>\n",
       "      <th>395</th>\n",
       "      <td>135.0</td>\n",
       "      <td>4</td>\n",
       "      <td>84.0</td>\n",
       "      <td>2295</td>\n",
       "      <td>11.6</td>\n",
       "      <td>82</td>\n",
       "      <td>1</td>\n",
       "    </tr>\n",
       "    <tr>\n",
       "      <th>396</th>\n",
       "      <td>120.0</td>\n",
       "      <td>4</td>\n",
       "      <td>79.0</td>\n",
       "      <td>2625</td>\n",
       "      <td>18.6</td>\n",
       "      <td>82</td>\n",
       "      <td>1</td>\n",
       "    </tr>\n",
       "    <tr>\n",
       "      <th>397</th>\n",
       "      <td>119.0</td>\n",
       "      <td>4</td>\n",
       "      <td>82.0</td>\n",
       "      <td>2720</td>\n",
       "      <td>19.4</td>\n",
       "      <td>82</td>\n",
       "      <td>1</td>\n",
       "    </tr>\n",
       "  </tbody>\n",
       "</table>\n",
       "</div>"
      ],
      "text/plain": [
       "     displacement  cylinders  horsepower  weight  acceleration  model_year  \\\n",
       "393         140.0          4        86.0    2790          15.6          82   \n",
       "394          97.0          4        52.0    2130          24.6          82   \n",
       "395         135.0          4        84.0    2295          11.6          82   \n",
       "396         120.0          4        79.0    2625          18.6          82   \n",
       "397         119.0          4        82.0    2720          19.4          82   \n",
       "\n",
       "     origin  \n",
       "393       1  \n",
       "394       2  \n",
       "395       1  \n",
       "396       1  \n",
       "397       1  "
      ]
     },
     "execution_count": 22,
     "metadata": {},
     "output_type": "execute_result"
    }
   ],
   "source": [
    "X.tail()"
   ]
  },
  {
   "cell_type": "code",
   "execution_count": 23,
   "id": "eef47ffa-0e2d-405a-992e-f251d9bc2eca",
   "metadata": {},
   "outputs": [
    {
     "data": {
      "text/html": [
       "<div>\n",
       "<style scoped>\n",
       "    .dataframe tbody tr th:only-of-type {\n",
       "        vertical-align: middle;\n",
       "    }\n",
       "\n",
       "    .dataframe tbody tr th {\n",
       "        vertical-align: top;\n",
       "    }\n",
       "\n",
       "    .dataframe thead th {\n",
       "        text-align: right;\n",
       "    }\n",
       "</style>\n",
       "<table border=\"1\" class=\"dataframe\">\n",
       "  <thead>\n",
       "    <tr style=\"text-align: right;\">\n",
       "      <th></th>\n",
       "      <th>mpg</th>\n",
       "    </tr>\n",
       "  </thead>\n",
       "  <tbody>\n",
       "    <tr>\n",
       "      <th>393</th>\n",
       "      <td>27.0</td>\n",
       "    </tr>\n",
       "    <tr>\n",
       "      <th>394</th>\n",
       "      <td>44.0</td>\n",
       "    </tr>\n",
       "    <tr>\n",
       "      <th>395</th>\n",
       "      <td>32.0</td>\n",
       "    </tr>\n",
       "    <tr>\n",
       "      <th>396</th>\n",
       "      <td>28.0</td>\n",
       "    </tr>\n",
       "    <tr>\n",
       "      <th>397</th>\n",
       "      <td>31.0</td>\n",
       "    </tr>\n",
       "  </tbody>\n",
       "</table>\n",
       "</div>"
      ],
      "text/plain": [
       "      mpg\n",
       "393  27.0\n",
       "394  44.0\n",
       "395  32.0\n",
       "396  28.0\n",
       "397  31.0"
      ]
     },
     "execution_count": 23,
     "metadata": {},
     "output_type": "execute_result"
    }
   ],
   "source": [
    "y.tail()"
   ]
  },
  {
   "cell_type": "markdown",
   "id": "f1937b9f",
   "metadata": {},
   "source": [
    "A continuación, crea una función a la que le pases los dataframes de features y de target y el nombre de la variable y haga la gráfica del target (consumo en millas por galón) vs la variable que le ha llegado por parámetro. Puedes ver un ejemplo de gráfica más abajo, pero usa los parámetros que quieras en cuanto a color de los puntos, grids etc."
   ]
  },
  {
   "cell_type": "code",
   "execution_count": 24,
   "id": "13197dad",
   "metadata": {},
   "outputs": [],
   "source": [
    "import matplotlib.pyplot as plt\n",
    "import numpy as np\n",
    "import pandas as pd\n",
    "\n",
    "def visualiza(df, y, nombre_columna):\n",
    "    \"\"\"\n",
    "    Plots a scatter graph between a feature variable and the target variable.\n",
    "    df -> dataframe that contains the features\n",
    "    y -> dataframe that contains the target variable\n",
    "    nombre_columna -> name of the feature variable to plot\n",
    "    \"\"\"\n",
    "    #x = df[nombre_columna].tolist()    # using a Python list (without the column name)\n",
    "    #x = df[nombre_columna].values      # using a NumPy array (without the column name)\n",
    "    x = df[nombre_columna]\n",
    "    x_label = nombre_columna.capitalize()\n",
    "    y_label = y.columns[0].capitalize()\n",
    "    plt.scatter(x, y, s = 10, c = 'r', label = x_label)\n",
    "    plt.grid(True)  # Adding a grid to facilitate reading of datapoints on graph\n",
    "    plt.xlabel(x_label)\n",
    "    plt.ylabel(y_label)\n",
    "    plt.title(y_label + \"  vs  \" + x_label)\n",
    "    plt.legend() \n",
    "    plt.show()\n",
    "    return\n"
   ]
  },
  {
   "cell_type": "code",
   "execution_count": 25,
   "id": "62f41993-9c72-4565-8321-26ead395743c",
   "metadata": {},
   "outputs": [
    {
     "data": {
      "image/png": "[encoded data removed]",
      "text/plain": [
       "<Figure size 640x480 with 1 Axes>"
      ]
     },
     "metadata": {},
     "output_type": "display_data"
    }
   ],
   "source": [
    "visualiza(X, y, 'horsepower')"
   ]
  },
  {
   "cell_type": "code",
   "execution_count": 26,
   "id": "59db67f0",
   "metadata": {},
   "outputs": [
    {
     "data": {
      "image/png": "[encoded data removed]",
      "text/plain": [
       "<Figure size 640x480 with 1 Axes>"
      ]
     },
     "metadata": {},
     "output_type": "display_data"
    }
   ],
   "source": [
    "visualiza(X, y, 'acceleration')"
   ]
  },
  {
   "cell_type": "code",
   "execution_count": 27,
   "id": "b61b921b",
   "metadata": {},
   "outputs": [
    {
     "data": {
      "image/png": "[encoded data removed]",
      "text/plain": [
       "<Figure size 640x480 with 1 Axes>"
      ]
     },
     "metadata": {},
     "output_type": "display_data"
    }
   ],
   "source": [
    "visualiza(X, y, 'weight')"
   ]
  },
  {
   "cell_type": "markdown",
   "id": "5d52295e-3ae0-41e4-acce-0fad24a4cadb",
   "metadata": {},
   "source": [
    "IMPORTANTE: Aunque lo ideal sería un modelo multivariante, vamos a elegir la variable `weight` y hacer una regresión lineal solo con esta variable."
   ]
  },
  {
   "cell_type": "markdown",
   "id": "58c9aff9",
   "metadata": {},
   "source": [
    "### 1.2 Implementación del modelo\n",
    "\n",
    "En este punto vamos a dar un paso atrás y olvidarnos de los datos de consumo por un momento, porque el algoritmo que vamos a implementar serviría para cualquier conjunto de datos.\n",
    "\n",
    "Lo primero, implementa una función que devuelva los valores de $\\widehat{w}$ dados X e y. Si se da el caso de que el dataset tiene más features que observaciones, queremos transponerlo antes de realizar las operaciones. Lo hacemos porque, como vimos en clase, los resultados no van a ser buenos si el número de observaciones es menor."
   ]
  },
  {
   "cell_type": "code",
   "execution_count": 28,
   "id": "4a6cf8c8-d8b1-4830-90c5-a417117e6e0a",
   "metadata": {
    "scrolled": true
   },
   "outputs": [
    {
     "data": {
      "text/html": [
       "<div>\n",
       "<style scoped>\n",
       "    .dataframe tbody tr th:only-of-type {\n",
       "        vertical-align: middle;\n",
       "    }\n",
       "\n",
       "    .dataframe tbody tr th {\n",
       "        vertical-align: top;\n",
       "    }\n",
       "\n",
       "    .dataframe thead th {\n",
       "        text-align: right;\n",
       "    }\n",
       "</style>\n",
       "<table border=\"1\" class=\"dataframe\">\n",
       "  <thead>\n",
       "    <tr style=\"text-align: right;\">\n",
       "      <th></th>\n",
       "      <th>displacement</th>\n",
       "      <th>cylinders</th>\n",
       "      <th>horsepower</th>\n",
       "      <th>weight</th>\n",
       "      <th>acceleration</th>\n",
       "      <th>model_year</th>\n",
       "      <th>origin</th>\n",
       "    </tr>\n",
       "  </thead>\n",
       "  <tbody>\n",
       "    <tr>\n",
       "      <th>0</th>\n",
       "      <td>307.0</td>\n",
       "      <td>8</td>\n",
       "      <td>130.0</td>\n",
       "      <td>3504</td>\n",
       "      <td>12.0</td>\n",
       "      <td>70</td>\n",
       "      <td>1</td>\n",
       "    </tr>\n",
       "    <tr>\n",
       "      <th>1</th>\n",
       "      <td>350.0</td>\n",
       "      <td>8</td>\n",
       "      <td>165.0</td>\n",
       "      <td>3693</td>\n",
       "      <td>11.5</td>\n",
       "      <td>70</td>\n",
       "      <td>1</td>\n",
       "    </tr>\n",
       "    <tr>\n",
       "      <th>2</th>\n",
       "      <td>318.0</td>\n",
       "      <td>8</td>\n",
       "      <td>150.0</td>\n",
       "      <td>3436</td>\n",
       "      <td>11.0</td>\n",
       "      <td>70</td>\n",
       "      <td>1</td>\n",
       "    </tr>\n",
       "    <tr>\n",
       "      <th>3</th>\n",
       "      <td>304.0</td>\n",
       "      <td>8</td>\n",
       "      <td>150.0</td>\n",
       "      <td>3433</td>\n",
       "      <td>12.0</td>\n",
       "      <td>70</td>\n",
       "      <td>1</td>\n",
       "    </tr>\n",
       "    <tr>\n",
       "      <th>4</th>\n",
       "      <td>302.0</td>\n",
       "      <td>8</td>\n",
       "      <td>140.0</td>\n",
       "      <td>3449</td>\n",
       "      <td>10.5</td>\n",
       "      <td>70</td>\n",
       "      <td>1</td>\n",
       "    </tr>\n",
       "    <tr>\n",
       "      <th>...</th>\n",
       "      <td>...</td>\n",
       "      <td>...</td>\n",
       "      <td>...</td>\n",
       "      <td>...</td>\n",
       "      <td>...</td>\n",
       "      <td>...</td>\n",
       "      <td>...</td>\n",
       "    </tr>\n",
       "    <tr>\n",
       "      <th>393</th>\n",
       "      <td>140.0</td>\n",
       "      <td>4</td>\n",
       "      <td>86.0</td>\n",
       "      <td>2790</td>\n",
       "      <td>15.6</td>\n",
       "      <td>82</td>\n",
       "      <td>1</td>\n",
       "    </tr>\n",
       "    <tr>\n",
       "      <th>394</th>\n",
       "      <td>97.0</td>\n",
       "      <td>4</td>\n",
       "      <td>52.0</td>\n",
       "      <td>2130</td>\n",
       "      <td>24.6</td>\n",
       "      <td>82</td>\n",
       "      <td>2</td>\n",
       "    </tr>\n",
       "    <tr>\n",
       "      <th>395</th>\n",
       "      <td>135.0</td>\n",
       "      <td>4</td>\n",
       "      <td>84.0</td>\n",
       "      <td>2295</td>\n",
       "      <td>11.6</td>\n",
       "      <td>82</td>\n",
       "      <td>1</td>\n",
       "    </tr>\n",
       "    <tr>\n",
       "      <th>396</th>\n",
       "      <td>120.0</td>\n",
       "      <td>4</td>\n",
       "      <td>79.0</td>\n",
       "      <td>2625</td>\n",
       "      <td>18.6</td>\n",
       "      <td>82</td>\n",
       "      <td>1</td>\n",
       "    </tr>\n",
       "    <tr>\n",
       "      <th>397</th>\n",
       "      <td>119.0</td>\n",
       "      <td>4</td>\n",
       "      <td>82.0</td>\n",
       "      <td>2720</td>\n",
       "      <td>19.4</td>\n",
       "      <td>82</td>\n",
       "      <td>1</td>\n",
       "    </tr>\n",
       "  </tbody>\n",
       "</table>\n",
       "<p>398 rows × 7 columns</p>\n",
       "</div>"
      ],
      "text/plain": [
       "     displacement  cylinders  horsepower  weight  acceleration  model_year  \\\n",
       "0           307.0          8       130.0    3504          12.0          70   \n",
       "1           350.0          8       165.0    3693          11.5          70   \n",
       "2           318.0          8       150.0    3436          11.0          70   \n",
       "3           304.0          8       150.0    3433          12.0          70   \n",
       "4           302.0          8       140.0    3449          10.5          70   \n",
       "..            ...        ...         ...     ...           ...         ...   \n",
       "393         140.0          4        86.0    2790          15.6          82   \n",
       "394          97.0          4        52.0    2130          24.6          82   \n",
       "395         135.0          4        84.0    2295          11.6          82   \n",
       "396         120.0          4        79.0    2625          18.6          82   \n",
       "397         119.0          4        82.0    2720          19.4          82   \n",
       "\n",
       "     origin  \n",
       "0         1  \n",
       "1         1  \n",
       "2         1  \n",
       "3         1  \n",
       "4         1  \n",
       "..      ...  \n",
       "393       1  \n",
       "394       2  \n",
       "395       1  \n",
       "396       1  \n",
       "397       1  \n",
       "\n",
       "[398 rows x 7 columns]"
      ]
     },
     "execution_count": 28,
     "metadata": {},
     "output_type": "execute_result"
    }
   ],
   "source": [
    "X"
   ]
  },
  {
   "cell_type": "code",
   "execution_count": 76,
   "id": "741a496b",
   "metadata": {
    "scrolled": true
   },
   "outputs": [],
   "source": [
    "import numpy as np\n",
    "import pandas as pd\n",
    "\n",
    "def pesos_ols_multivariant(X, y, column_index = None):\n",
    "\n",
    "    \"\"\"\n",
    "    Calcula los coeficientes (pesos) de la línia de regresión según el método OLS multivariante\n",
    "    (\"Ordinary Least Squares) entre las variables:\n",
    "    - X: matriz (np.matrix) de features (se usará la columna 0 a menos que se pase otra)\n",
    "    - y: variable target (puede ser Series, DataFrame, ndarray o matrix)\n",
    "    \"\"\"\n",
    "\n",
    "    ###############################################################################################\n",
    "    # 1. Obtiene la variable X_matrix en forma de matriz de features de una columna\n",
    "    #    y comprueba que las dimensiones sean las correctas:\n",
    "\n",
    "    # Comprueba que el formato sea DataFrame o Series o matriz, y transforma a matriz.\n",
    "    if isinstance(X,pd.DataFrame) or isinstance(X,pd.Series):\n",
    "        X_matrix = X.to_numpy()   \n",
    "    elif isinstance(X,np.ndarray):\n",
    "        if X.ndim == 1:\n",
    "            X_matrix = X.reshape(-1, 1)\n",
    "        else:\n",
    "            X_matrix = X\n",
    "    else:\n",
    "        raise TypeError(\"Target must be a dataframe, series or ndarray.\")\n",
    "\n",
    "    # Comprueba que el número de filas es mayor que el de columnas. Si no lo es, calcula la traspuesta.\n",
    "    if X_matrix.shape[0] <= X_matrix.shape[1]:\n",
    "        print(\"Warning: the calculation is done using the features transposed matrix.\\n\")\n",
    "        X_matrix = X_matrix.T\n",
    "\n",
    "    # Si se ha pasado columna, crea la matriz de una columna que contiene la variable de features con la que calcular la regresión.\n",
    "    if X_matrix.shape[1] > 1 and column_index != None:\n",
    "        X_matrix = np.asarray(X_matrix[:, column_index]).reshape(-1, 1)\n",
    "\n",
    "    ###############################################################################################\n",
    "    # 2. Obtiene la variable y_target en forma de matriz de una columna:\n",
    "\n",
    "    # Comprueba que el formato sea DataFrame de una columna o Series o matriz de una columna.\n",
    "    if isinstance(y,pd.DataFrame):\n",
    "        if y.shape[1] != 1:\n",
    "            print(\"The target dataframe should have only one column. This program will use the first one.\")\n",
    "        y_target = y.iloc[:,0]   #Transforma el DataFrame en NumPy array.\n",
    "    elif isinstance(y,pd.Series):\n",
    "        y_target = y\n",
    "    elif isinstance(y,np.ndarray):\n",
    "        y_target = y\n",
    "    else:\n",
    "        raise TypeError(\"Target must be a dataframe, series or ndarray\")\n",
    "\n",
    "    ###############################################################################################\n",
    "    # 3. Agrega la columna de 1s para el término independiente (bias)    \n",
    "    ones = np.ones((X_matrix.shape[0],1))\n",
    "    X_b = np.hstack((ones, X_matrix))\n",
    "    #print(X_b)\n",
    "    \n",
    "    ###############################################################################################\n",
    "    # 4. Calcula los pesos  \n",
    "    # Primero calcula el rango de la matriz de productos internos para decidir si utilizar la matriz inversa o pseudoinversa.    \n",
    "\n",
    "    XT_X = X_b.T @ X_b   # Matriz de productos internos (Gram matrix)\n",
    "    rank = np.linalg.matrix_rank(XT_X)   #Cálculo del rango\n",
    "    \n",
    "    if rank == XT_X.shape[0]:\n",
    "        w = np.linalg.inv(XT_X) @ X_b.T @ y_target   # Usando matriz inversa\n",
    "    else:    \n",
    "        print(\"Non-invertible matrix: using pseudoinverse instead.\\n\")\n",
    "        w = np.linalg.lstsq(X_b, y_target)  # Usando matriz pseudoinversa (same as: w = np.linalg.pinv(X_b) @ y_target)\n",
    "    \n",
    "    \n",
    "    ###############################################################################################\n",
    "    # 5. Imprime y devuelve el array de pesos.\n",
    "\n",
    "    w = w.flatten()   # Por si se da el caso de obtener una tupla de arrays, con los pesos en el primer elemento.\n",
    "    print(f\"The resulting weights of the multivariant OLS linear model are {w}.\\n\")\n",
    "    \n",
    "    return w, X_matrix\n"
   ]
  },
  {
   "cell_type": "code",
   "execution_count": 31,
   "id": "55adce96-8d30-426a-b79b-004f803955c1",
   "metadata": {},
   "outputs": [
    {
     "name": "stdout",
     "output_type": "stream",
     "text": [
      "Warning: the calculation is done using the features transposed matrix.\n",
      "\n",
      "The resulting weights of the linear model are [-2.29223802e+06  5.92536529e+01  1.20780450e+03].\n",
      "\n"
     ]
    },
    {
     "data": {
      "text/plain": [
       "(array([-2.29223802e+06,  5.92536529e+01,  1.20780450e+03]),\n",
       " array([[1710, 2003],\n",
       "        [1262, 1976],\n",
       "        [1786, 2001],\n",
       "        [1717, 1915],\n",
       "        [2198, 2000],\n",
       "        [1362, 1993],\n",
       "        [1694, 2004],\n",
       "        [2090, 1973],\n",
       "        [1774, 1931],\n",
       "        [1077, 1939]]))"
      ]
     },
     "execution_count": 31,
     "metadata": {},
     "output_type": "execute_result"
    }
   ],
   "source": [
    "X_prueba = np.array([[1710, 1262, 1786, 1717, 2198, 1362, 1694, 2090, 1774, 1077], \n",
    "              [2003, 1976, 2001, 1915, 2000, 1993, 2004, 1973, 1931, 1939]])\n",
    "y_prueba = np.array([208500, 181500, 223500, 140000, 250000, 143000, 307000, 200000, 129900, 118000])\n",
    "\n",
    "pesos_ols_multivariant(X_prueba,y_prueba)"
   ]
  },
  {
   "cell_type": "code",
   "execution_count": 75,
   "id": "75943f95-68a9-45e4-bf6e-f2155b3c4f23",
   "metadata": {
    "scrolled": true
   },
   "outputs": [],
   "source": [
    "import numpy as np\n",
    "import pandas as pd\n",
    "\n",
    "def pesos_ols(X, y, column_index = 0):\n",
    "\n",
    "    \"\"\"\n",
    "    Calcula los coeficientes (pesos) de la línia de regresión según el método OLS univariante\n",
    "    (\"Ordinary Least Squares) entre las variables:\n",
    "    - X: matriz (np.matrix) de features (se usará la columna 0 a menos que se pase otra)\n",
    "    - y: variable target (puede ser Series, DataFrame, ndarray o matrix)\n",
    "    \"\"\"\n",
    "\n",
    "    ###############################################################################################\n",
    "    # 1. Obtiene la variable X_matrix en forma de matriz de features de una columna\n",
    "    #    y comprueba que las dimensiones sean las correctas:\n",
    "\n",
    "    # Comprueba que el formato sea DataFrame o Series o matriz, y transforma a matriz.\n",
    "    if isinstance(X,pd.DataFrame) or isinstance(X,pd.Series):\n",
    "        X_matrix = X.to_numpy()   \n",
    "    elif isinstance(X,np.ndarray):\n",
    "        if X.ndim == 1:\n",
    "            X_matrix = X.reshape(-1, 1)\n",
    "        else:\n",
    "            X_matrix = X\n",
    "    else:\n",
    "        raise TypeError(\"Target must be a dataframe, series or ndarray.\")\n",
    "\n",
    "    # Comprueba que el número de filas es mayor que el de columnas. Si no lo es, calcula la traspuesta.\n",
    "    if X_matrix.shape[0] <= X_matrix.shape[1]:\n",
    "        print(\"Warning: the calculation is done using the features transposed matrix.\\n\")\n",
    "        X_matrix = X_matrix.T\n",
    "\n",
    "    # Crea la matriz de una columna que contiene la variable de features con la que calcular la regresión.\n",
    "    if X_matrix.shape[1] > 1:\n",
    "        X_matrix = np.asarray(X_matrix[:, column_index]).reshape(-1, 1)\n",
    "\n",
    "    ###############################################################################################\n",
    "    # 2. Obtiene la variable y_target en forma de matriz de una columna:\n",
    "\n",
    "    # Comprueba que el formato sea DataFrame de una columna o Series o matriz de una columna.\n",
    "    if isinstance(y,pd.DataFrame):\n",
    "        if y.shape[1] != 1:\n",
    "            print(\"The target dataframe should have only one column. This program will use the first one.\")\n",
    "        y_target = y.iloc[:,0]   #Transforma el DataFrame en NumPy array.\n",
    "    elif isinstance(y,pd.Series):\n",
    "        y_target = y\n",
    "    elif isinstance(y,np.ndarray):\n",
    "        y_target = y\n",
    "    else:\n",
    "        raise TypeError(\"Target must be a dataframe, series or ndarray\")\n",
    "\n",
    "    ###############################################################################################\n",
    "    # 3. Agrega la columna de 1s para el término independiente (bias)    \n",
    "    ones = np.ones((X_matrix.shape[0],1))\n",
    "    X_b = np.hstack((ones, X_matrix))\n",
    "    #print(X_b)\n",
    "    \n",
    "    ###############################################################################################\n",
    "    # 4. Calcula los pesos  \n",
    "    # Primero calcula el rango de la matriz de productos internos para decidir si utilizar la matriz inversa o pseudoinversa.    \n",
    "\n",
    "    XT_X = X_b.T @ X_b   # Matriz de productos internos (Gram matrix)\n",
    "    rank = np.linalg.matrix_rank(XT_X)   #Cálculo del rango\n",
    "    \n",
    "    if rank == XT_X.shape[0]:\n",
    "        w = np.linalg.inv(XT_X) @ X_b.T @ y_target   # Usando matriz inversa\n",
    "    else:    \n",
    "        print(\"Non-invertible matrix: using pseudoinverse instead.\\n\")\n",
    "        w = np.linalg.lstsq(X_b, y_target)  # Usando matriz pseudoinversa (same as: w = np.linalg.pinv(X_b) @ y_target)\n",
    "    \n",
    "    \n",
    "    ###############################################################################################\n",
    "    # 5. Imprime y devuelve los pesos: w[0] = intercept y w[1] = gradiente.\n",
    "\n",
    "    w = w.flatten()   # Por si se da el caso de obtener una tupla de arrays, con los pesos en el primer elemento.\n",
    "    print(f\"The resulting weights of the univariant OLS linear model are {w}.\\n\")\n",
    "    \n",
    "    return w, X_matrix\n"
   ]
  },
  {
   "cell_type": "code",
   "execution_count": 12,
   "id": "59b42efe-88a6-43e7-b999-35e65b992c80",
   "metadata": {},
   "outputs": [
    {
     "name": "stdout",
     "output_type": "stream",
     "text": [
      "The resulting weights of the linear model are [183845.82320235  40415.66453301].\n",
      "\n"
     ]
    },
    {
     "data": {
      "text/plain": [
       "(array([183845.82320235,  40415.66453301]),\n",
       " array([[ 0.37020659],\n",
       "        [-0.48234664],\n",
       "        [ 0.51483616],\n",
       "        [ 0.38352774],\n",
       "        [ 1.29888065]]))"
      ]
     },
     "execution_count": 12,
     "metadata": {},
     "output_type": "execute_result"
    }
   ],
   "source": [
    "#pesos_ols(X[['weight']].values, y)\n",
    "pesos_ols(X,y,3)"
   ]
  },
  {
   "cell_type": "code",
   "execution_count": 33,
   "id": "20ebe4da",
   "metadata": {
    "scrolled": true
   },
   "outputs": [
    {
     "name": "stdout",
     "output_type": "stream",
     "text": [
      "Warning: the calculation is done using the features transposed matrix.\n",
      "\n",
      "The resulting weights of the linear model are [45198.45332662    86.9475385 ].\n",
      "\n"
     ]
    },
    {
     "data": {
      "text/plain": [
       "(array([45198.45332662,    86.9475385 ]),\n",
       " array([[1710],\n",
       "        [1262],\n",
       "        [1786],\n",
       "        [1717],\n",
       "        [2198],\n",
       "        [1362],\n",
       "        [1694],\n",
       "        [2090],\n",
       "        [1774],\n",
       "        [1077]]))"
      ]
     },
     "execution_count": 33,
     "metadata": {},
     "output_type": "execute_result"
    }
   ],
   "source": [
    "# Array de prueba!!\n",
    "X_prueba = np.array([[1710, 1262, 1786, 1717, 2198, 1362, 1694, 2090, 1774, 1077], \n",
    "              [2003, 1976, 2001, 1915, 2000, 1993, 2004, 1973, 1931, 1939]])\n",
    "y_prueba = np.array([208500, 181500, 223500, 140000, 250000, 143000, 307000, 200000, 129900, 118000])\n",
    "\n",
    "pesos_ols(X_prueba, y_prueba)"
   ]
  },
  {
   "cell_type": "markdown",
   "id": "96d33535-4e63-4ab2-97d5-5a4e5ef311b7",
   "metadata": {},
   "source": [
    "Hemos implementado el algoritmo de mínimos cuadrados y lo hemos probado en un array de tamaño 2x10. Como pista, el resultado que he obtenido para este array de prueba es el siguiente:\n",
    "\n",
    "array([-2.29223802e+06, 5.92536529e+01, 1.20780450e+03])"
   ]
  },
  {
   "cell_type": "markdown",
   "id": "5cb5c0f5",
   "metadata": {},
   "source": [
    "### Conclusión sobre la función de pesos:\n",
    "\n",
    "La función pesos_ols() me da un resultado correcto para los datos del consumo de los coches en función de su peso (comparando con el programa de sklearn -ver más abajo en el último apartado de la parte 1.)\n",
    "\n",
    "Cuando lo aplico al array de prueba, calcula la traspuesta y, como no se ha pasado ningún índice de columno, por defecto calcula la regresión lineal con la primera columna (la de índice 0). Para ver si el resultado tiene sentido, he utilizado la función visualiza_con_regresion_linear() (apartado 1.3 de esta práctica) y la recta de regresión parece adecuarse bien a los 10 puntos utilizados.\n",
    "\n",
    "La función pesos_ols_multivariant() es prácticamente idéntica pero no impone un índice de columna. Si se pasa un índice, trabaja sólo con esta columna; en caso contrario, trabaja con todas las columnas de X. En el caso del array de prueba, primero calcula la traspuesta (porque hay más columnas que filas) y luego resuelve el modelo con las dos columnas resultantes, obteniendo el array esperado para los pesos: array([-2.29223802e+06, 5.92536529e+01, 1.20780450e+03]). \n",
    "\n",
    "Por lo tanto, sé que el programa funciona correctamente, tanto en modo univariante (pesos_ols()) como en modo multivariante (pesos_ols_multivariant()).  "
   ]
  },
  {
   "cell_type": "code",
   "execution_count": 34,
   "id": "0d37743c-1e58-47b7-8bd0-2590fb74e001",
   "metadata": {},
   "outputs": [
    {
     "name": "stdout",
     "output_type": "stream",
     "text": [
      "Calculating linear regression.\n",
      "\n",
      "Warning: the calculation is done using the features transposed matrix.\n",
      "\n",
      "The resulting weights of the linear model are [45198.45332662    86.9475385 ].\n",
      "\n",
      "Calculating series of predicted values.\n",
      "\n",
      "Plotting graph.\n",
      "\n"
     ]
    },
    {
     "data": {
      "image/png": "[encoded data removed]",
      "text/plain": [
       "<Figure size 640x480 with 1 Axes>"
      ]
     },
     "metadata": {},
     "output_type": "display_data"
    },
    {
     "name": "stdout",
     "output_type": "stream",
     "text": [
      "Program reached the end successfully.\n",
      "\n"
     ]
    }
   ],
   "source": [
    "visualiza_con_regresion_linear(X_prueba,y_prueba)"
   ]
  },
  {
   "cell_type": "markdown",
   "id": "1508edaf-0af1-4e36-9b7c-ebfd71996dae",
   "metadata": {},
   "source": [
    "### 1.3 Prueba del modelo en los datos de consumo de coches\n",
    "\n",
    "Ya podemos usar nuestra función `pesos` en el dataset real que hemos descargado, el de consumo de combustible. Para ver el ajuste, dibuja de nuevo los datos junto con la recta que has obtenido, en la misma gráfica. Tendrás que convertir los dataframes de Pandas en arrays de numpy para poder aplicar las operaciones matriciales.\n",
    "\n",
    "TIP: Revisa las dimensiones de todos los arrays para ver que son correctas."
   ]
  },
  {
   "cell_type": "code",
   "execution_count": 35,
   "id": "53cebe34",
   "metadata": {},
   "outputs": [],
   "source": [
    "# TODO Aplica el modelo y dibuja la recta junto con los datos\n",
    "import numpy as np\n",
    "import matplotlib.pyplot as plt\n",
    "import pandas as pd\n",
    "\n",
    "def visualiza_con_regresion_linear(df, y, nombre_columna = None):\n",
    "    \"\"\"\n",
    "    Calculates the intercept and gradient of the line of best fit that relates\n",
    "    a feature variable and the target variable. \n",
    "    Then plots the scatter graph containing the data and the trendline, with its equation.\n",
    "        df -> dataframe that contains the features\n",
    "        y -> dataframe that contains the target variable\n",
    "        nombre_columna -> name of the feature variable\n",
    "    \"\"\"\n",
    "    \n",
    "    # 1. Calling function pesos_ols(df,y) to calculate linear regression values.\n",
    "    print(\"Calculating linear regression.\\n\")\n",
    "    if isinstance(df, pd.DataFrame) and nombre_columna != None:\n",
    "        regression, X_data = pesos_ols(df[[nombre_columna]].values,y)\n",
    "    else:\n",
    "        regression, X_data = pesos_ols(df, y)\n",
    "    intercept = regression[0]\n",
    "    gradient = regression[1]\n",
    "    X_as_df = pd.DataFrame(X_data, columns = [nombre_columna])\n",
    "\n",
    "    # 2. Calculating series of predicted values for drawing the trendline\n",
    "    print(\"Calculating series of predicted values.\\n\")\n",
    "    #x_hat = np.linspace(X_data.min(),X_data.max(),10)\n",
    "    x_hat = np.linspace(X_as_df[nombre_columna].min(), X_as_df[nombre_columna].max(), 10)\n",
    "    y_hat = intercept + x_hat*gradient\n",
    "    x_hat_label = f\"Trendline: $y = {gradient:.3g}x + {intercept:.3g}$\"   # Using 3 significant figures\n",
    "    #x_hat_label = f\"Trendline: $y = {gradient:.2f}x + {(intercept:.2f}$\"  # Using 2 decimal places\n",
    "\n",
    "    # 3. Plotting data and trendline\n",
    "    print(\"Plotting graph.\\n\")\n",
    "    x = X_as_df\n",
    "    if nombre_columna == None:\n",
    "        x_label = 'Feature value'\n",
    "    else:\n",
    "        x_label = nombre_columna.capitalize()\n",
    "    if isinstance(y,pd.DataFrame) and y.columns[0] != None:\n",
    "        y_label = y.columns[0].capitalize()\n",
    "    else: \n",
    "        y_label = 'Target value'\n",
    "    plt.scatter(x, y, s = 10, c = 'r', label = x_label)  # Plots dataset\n",
    "    plt.plot(x_hat, y_hat, marker = '', c = 'b', label = x_hat_label)  # Plots trendline with no markers\n",
    "    plt.grid(True)  # Adds a grid to facilitate reading of datapoints on graph\n",
    "    plt.xlabel(x_label)\n",
    "    plt.ylabel(y_label)\n",
    "    plt.title(f\"{y_label}  vs  {x_label}\")\n",
    "    plt.legend()\n",
    "    plt.show()\n",
    "    print(\"Program reached the end successfully.\\n\")\n",
    "    return"
   ]
  },
  {
   "cell_type": "code",
   "execution_count": 36,
   "id": "8d1d4cdb-81c7-4ea6-924a-d9668fbf229e",
   "metadata": {},
   "outputs": [
    {
     "name": "stdout",
     "output_type": "stream",
     "text": [
      "Calculating linear regression.\n",
      "\n",
      "The resulting weights of the linear model are [ 4.63173644e+01 -7.67661006e-03].\n",
      "\n",
      "Calculating series of predicted values.\n",
      "\n",
      "Plotting graph.\n",
      "\n"
     ]
    },
    {
     "data": {
      "image/png": "[encoded data removed]",
      "text/plain": [
       "<Figure size 640x480 with 1 Axes>"
      ]
     },
     "metadata": {},
     "output_type": "display_data"
    },
    {
     "name": "stdout",
     "output_type": "stream",
     "text": [
      "Program reached the end successfully.\n",
      "\n"
     ]
    }
   ],
   "source": [
    "visualiza_con_regresion_linear(X,y,'weight')"
   ]
  },
  {
   "cell_type": "markdown",
   "id": "88fcbf61",
   "metadata": {},
   "source": [
    "Por último, vamos a comprar el resultado con el que nos da `scikit-learn`para ver si nuestra implementación tiene buena pinta. Podemos ver cómo funciona en la [documentación](https://scikit-learn.org/stable/modules/generated/sklearn.linear_model.LinearRegression.html)."
   ]
  },
  {
   "cell_type": "code",
   "execution_count": 37,
   "id": "cefe8968-14ec-42cd-8d84-0b99ef79b749",
   "metadata": {},
   "outputs": [
    {
     "name": "stdout",
     "output_type": "stream",
     "text": [
      "Requirement already satisfied: scikit-learn in ./venv_challenge/lib/python3.12/site-packages (1.7.1)\n",
      "Requirement already satisfied: numpy>=1.22.0 in ./venv_challenge/lib/python3.12/site-packages (from scikit-learn) (2.3.1)\n",
      "Requirement already satisfied: scipy>=1.8.0 in ./venv_challenge/lib/python3.12/site-packages (from scikit-learn) (1.16.0)\n",
      "Requirement already satisfied: joblib>=1.2.0 in ./venv_challenge/lib/python3.12/site-packages (from scikit-learn) (1.5.1)\n",
      "Requirement already satisfied: threadpoolctl>=3.1.0 in ./venv_challenge/lib/python3.12/site-packages (from scikit-learn) (3.6.0)\n"
     ]
    }
   ],
   "source": [
    "!pip install scikit-learn"
   ]
  },
  {
   "cell_type": "code",
   "execution_count": 38,
   "id": "3d07cb49",
   "metadata": {},
   "outputs": [
    {
     "name": "stdout",
     "output_type": "stream",
     "text": [
      "Punto de corte: [46.31736442]\n",
      "Pendiente: [[-0.00767661]]\n"
     ]
    }
   ],
   "source": [
    "from sklearn.linear_model import LinearRegression\n",
    "\n",
    "# Creamos el objeto\n",
    "lr = LinearRegression()\n",
    "\n",
    "# Le pasamos los datos en el formato correcto\n",
    "X = auto_mpg.data.features \n",
    "y = auto_mpg.data.targets \n",
    "\n",
    "X_lr = X[['weight']]\n",
    "y_lr = y\n",
    "\n",
    "# Entrenamos con los datos\n",
    "lr.fit(X_lr,y_lr)\n",
    "print(\"Punto de corte:\", lr.intercept_)\n",
    "print(\"Pendiente:\", lr.coef_)"
   ]
  },
  {
   "cell_type": "markdown",
   "id": "a2571861",
   "metadata": {},
   "source": [
    "**TODO**: Analiza el resultado obtenido y compáralo con el de sklearn.\n",
    "\n",
    "Con mi programa he encontrado el resultado siguiente:\n",
    "\"The intercept w0 is 46.317364420265655 and the gradient w1 is -0.007676610063926457.\"\n",
    "Los resultados son coincidentes, con la única diferencia que mi programa da muchas más cifras significativas, que realmente no son importantes ya que los datos estan lejos del modelo lineal ideal. "
   ]
  },
  {
   "cell_type": "markdown",
   "id": "4aa24d2c",
   "metadata": {},
   "source": [
    "### 1.4 Compara el método de mínimos cuadrados y el descenso del gradiente para obtener los coeficientes de una regresión lineal\n"
   ]
  },
  {
   "cell_type": "markdown",
   "id": "21a45ab7-d0d3-45e7-9029-d31caf7a67a5",
   "metadata": {},
   "source": [
    "Los dos métodos dan resultados parecidos cuando funcionan bien (esto se ve en la prueba que hago al final del punto 2.1). En general, el método \"Ordinary Least Squares\" (OLS) dará una solución exacta, mientras que la solución del método del descenso del gradiente (GD) será una aproximación, pero tan precisa como se requiere. Cuando los datos sean más voluminosos, el método OLS tardará más en ejecutarse y además puede generar problemas al tenerse que invertir una matriz (la solución de la pseudoinversa en el caso de matrices no invertibles es buena pero también es lenta). No obstante, para pequeñas cantidades de datos, el método OLS puede incluso ser más rápido porqué no requiere otros parámetros como el learning rate, el vector de pesos de partida inicial o el número de iteraciones. Un inconveniente importante del método GD es que no siempre converge y a veces es necesario probar diferentes parámetros antes de que dé una solución estable."
   ]
  },
  {
   "cell_type": "markdown",
   "id": "81ece852-3a84-47a0-8edf-9f21b37ef382",
   "metadata": {},
   "source": [
    "### 2. Optimización con descenso del gradiente\n",
    "\n",
    "Vamos a resolver el mismo problema usando el descenso del gradiente en lugar de la solución analítica. El descenso del gradiente es un método de optimización iterativo que usa el operador gradiente.\n",
    "\n",
    "Como es iterativo, necesitamos decirle cuándo tiene que parar y darnos la solución. En este caso, le vamos a decir que pare y nos devuelva la solución después de un número de iteraciones que le pasaremos como parámetro. La ecuación iterativa es.\n",
    "\n",
    "$$w^{t+1} = w^t - \\eta \\cdot \\nabla f(w)$$\n",
    "\n",
    "donde f es nuestra función objetivo, y w es un vector. Para la función objetivo, vamos a usar el error RSS, que querremos minimizar.\n",
    "\n",
    "$$ RSS(w) = \\frac{1}{2}\\sum_{n=1}^{N}[y_n-f(x_n)]^2$$\n",
    "\n",
    "y cuyo gradiente es:\n",
    "\n",
    "$$\\nabla RSS(w) = X^T(Xw^t-y)$$\n",
    "\n",
    "TIP: Ten en cuenta que el RSS también lo puedes escribir como $\\frac{1}{2}\\sum_{n=1}^{N}[y_n-\\hat{y_n}]^2$ donde $\\hat{y_n} = X \\hat{w}$ en cada paso."
   ]
  },
  {
   "cell_type": "markdown",
   "id": "446ad8dd",
   "metadata": {},
   "source": [
    "### 2.1 Implementar el descenso del gradiente\n",
    "\n",
    "Completa las siguientes funciones para implementar el descenso del gradiente con la función objetivo de la regresión lineal. La función necesitará:\n",
    "\n",
    "- La entrada X y salida y de la regresión\n",
    "- Un punto inicial desde el que empezar a iterar\n",
    "- El número de iteraciones \n",
    "- El learning rate\n",
    "\n",
    "La función nos devolverá un array con las w resultantes de las iteraciones y otro con el valor de la función en cada paso del algoritmo, a la que también se conoce como *loss function*."
   ]
  },
  {
   "cell_type": "code",
   "execution_count": 66,
   "id": "a73d5785",
   "metadata": {},
   "outputs": [],
   "source": [
    "import numpy as np\n",
    "\n",
    "def gradient_descent(X, y, w0 = np.array([0, 1]).reshape((2,1)), n_iter = 50, eta = 0.2): #Damos unos valores por defecto, menos para los datos de entrada.\n",
    "    \"\"\"\n",
    "    Parámetros:\n",
    "        X = np.array de valores del feature\n",
    "        y = np.array de valores del target\n",
    "        w0 = vector inicial de coeficientes desde el que empezar a iterar. Por defecto se escogerá la media de las \"y\" como \n",
    "             intercept y el gradiente obtenido con el primero y último puntos de los arrays de entrada como gradiente.\n",
    "        n_iter = número de iteraciones. Por defecto se escogerá 50.\n",
    "        eta = learning rate. Por defecto se escogerá 0.2.\n",
    "    Salida:\n",
    "        np.array(w_iter) = array con los coeficientes resultantes de las iteraciones\n",
    "        np.array(loss_iter) = array con el valor de la función en cada paso del algoritmo (\"loss function\")\n",
    "    \n",
    "    \"\"\"\n",
    "    # Define la función que calcule n_iter iteraciones del descenso del gradiente\n",
    "    # Inicializamos variables\n",
    "\n",
    "    loss_iter = [np.inf] #Creates a list for the loss function with \"infinity\" as the first element (the value of the loss should decrease through the iterations)\n",
    "    w_iter = [w0] #Creates a list for the coefficients with w0 as the first element.\n",
    "    w = w0  #Keeps track of latest coefficients\n",
    "\n",
    "    # TODO 1 Añade la columna de 1s\n",
    "\n",
    "    #Sólo sería necesario si los datos de entrada no estuviesen en formato Numpy array\n",
    "    #X = np.array(X)  \n",
    "    #y = np.array(y)\n",
    "\n",
    "    n = X.shape[0]\n",
    "    ones = np.ones((n,1))\n",
    "    X_b = np.hstack((ones, X))\n",
    "       \n",
    "    # TODO 2 Haz un bucle para las iteraciones \n",
    "    # TODO 3 Dentro del bucle tendrás que actualizar el error y los pesos y añadirlos a las listas\n",
    "\n",
    "    for i in range(n_iter):\n",
    "\n",
    "        # Iteraciones\n",
    "        y_hat = X_b @ w  #Trabajamos con la columna de 1s para calcular también el intercept.\n",
    "        w = w - eta * (X_b.T @ (X_b @ w - y)) #Utilizamos el descenso del gradiente para calcular los nuevos pesos.\n",
    "    \n",
    "        # Actualización del error y de los pesos, añadiendólos a las listas\n",
    "        RSS_error = 0.5 * np.sum((y_hat - y)**2) #Ésta es la función que queremos minimizar\n",
    "        w_iter.append(w)\n",
    "        loss_iter.append(RSS_error)\n",
    "\n",
    "    # Devuelve los resultados\n",
    "    return np.array(w_iter), np.array(loss_iter)\n"
   ]
  },
  {
   "cell_type": "code",
   "execution_count": 78,
   "id": "f237da73-c0e4-4963-aec3-179218171f92",
   "metadata": {},
   "outputs": [
    {
     "name": "stdout",
     "output_type": "stream",
     "text": [
      "Weights obtained with the gradient descent method: [[183845.82320222]\n",
      " [ 40415.66453324]].\n",
      "\n",
      "The resulting weights of the multivariant OLS linear model are [183845.82320235  40415.66453301].\n",
      "\n"
     ]
    }
   ],
   "source": [
    "eta = 0.01 \n",
    "iteraciones = 2000 \n",
    "\n",
    "np.random.seed(123)\n",
    "w0 = np.random.rand(2).reshape((2,1))\n",
    "\n",
    "y = np.array([208500, 181500, 223500, 140000, 250000]).reshape((5,1))\n",
    "X = np.array( [[  0.37020659],\n",
    "               [  -0.48234664],\n",
    "               [  0.51483616],\n",
    "               [  0.38352774],\n",
    "               [  1.29888065]])\n",
    "\n",
    "weights, loss = gradient_descent(X, y, w0, iteraciones, eta)\n",
    "#weights, loss = gradient_descent(X, y)\n",
    "\n",
    "print(f'Weights obtained with the gradient descent method: {weights[-1]}.\\n')\n",
    "\n",
    "pesos, X_out = pesos_ols_multivariant(X, y)\n"
   ]
  },
  {
   "cell_type": "markdown",
   "id": "81842449-c8ac-4ca9-ae9a-af0a6aebf93f",
   "metadata": {},
   "source": [
    "### Respuesta a la pregunta 1.4 - Compara el método de mínimos cuadrados y el descenso del gradiente para obtener los coeficientes de una regresión lineal. \n",
    "Como se ve justo arriba, los dos métodos dan resultados parecidos y en este caso ambos funcionan bien. \n",
    "En general, el método OLS es más preciso pero quizás sea más lento de ejecutar cuando hay muchos datos y también puede generar problemas computacionales con la matriz inversa o la pseudoinversa. \n",
    "Por el contrario, el método GD no siempre converge pero me parece muy rápido, una vez hayamos encontrado valores adecuados para el learning rate y demás parámetros iniciales."
   ]
  },
  {
   "cell_type": "markdown",
   "id": "6d6e3013",
   "metadata": {},
   "source": [
    "### 2.2 Aplicar al dataset de consumo de combustible\n",
    "\n",
    "Leemos de nuevo los datos y aplicamos la función que acabamos de programar."
   ]
  },
  {
   "cell_type": "code",
   "execution_count": 70,
   "id": "5b684062",
   "metadata": {},
   "outputs": [
    {
     "name": "stdout",
     "output_type": "stream",
     "text": [
      "(398, 1)\n",
      "(398, 1)\n"
     ]
    }
   ],
   "source": [
    "from ucimlrepo import fetch_ucirepo \n",
    "  \n",
    "# fetch dataset \n",
    "auto_mpg = fetch_ucirepo(id=9) \n",
    "  \n",
    "# data (as pandas dataframes) \n",
    "X = auto_mpg.data.features \n",
    "y = auto_mpg.data.targets \n",
    "  \n",
    "# convert to numpy\n",
    "X_np = X['weight'].to_numpy().reshape((X.shape[0], 1))\n",
    "y_np = y.to_numpy()\n",
    "\n",
    "print(X_np.shape)\n",
    "print(y_np.shape)"
   ]
  },
  {
   "cell_type": "markdown",
   "id": "94d27c55",
   "metadata": {},
   "source": [
    "Para ayudar al algoritmo, vamos a escalar la variable X, restando la media y dividiendo entre la desviación estándar. Después aplicamos la función anterior y dibujamos."
   ]
  },
  {
   "cell_type": "code",
   "execution_count": 97,
   "id": "b5438c2a",
   "metadata": {},
   "outputs": [
    {
     "data": {
      "image/png": "[encoded data removed]",
      "text/plain": [
       "<Figure size 640x480 with 1 Axes>"
      ]
     },
     "metadata": {},
     "output_type": "display_data"
    }
   ],
   "source": [
    "# TODO Aplica el modelo y dibuja la recta junto con los datos\n",
    "\n",
    "X = auto_mpg.data.features\n",
    "y = auto_mpg.data.targets\n",
    "\n",
    "# Escalamos la variable x \n",
    "\n",
    "X_np = X['weight'].to_numpy().reshape((X.shape[0], 1))\n",
    "y_np = y.to_numpy()\n",
    "\n",
    "X_gd = (X_np - X_np.mean()) / X_np.std()\n",
    "y_gd = y_np\n",
    "\n",
    "# TODO 1 Punto inicial y learning rate\n",
    "np.random.seed(123)\n",
    "w0 = np.random.rand(2).reshape((2,1))\n",
    "n_iter = 300\n",
    "eta = 0.002 #The learning rate must be small as we are working with some values (standardized)\n",
    "\n",
    "# TODO 2 Aplicamos el algoritmo\n",
    "coefficients, losses = gradient_descent(X_gd, y_gd, w0, n_iter, eta)\n",
    "\n",
    "# Límites de los ejes\n",
    "x_max = np.max(X_gd) + 1\n",
    "x_min = np.min(X_gd) -1\n",
    "\n",
    "# TODO 3 Dibuja la gráfica\n",
    "\n",
    "# Scatter (dataset)\n",
    "x = X_gd\n",
    "y = y_gd\n",
    "x_label = 'Scaled weight'\n",
    "y_label = 'MPG'\n",
    "plt.scatter(x, y, s = 10, c = 'r', label = x_label)  \n",
    "\n",
    "# Gradient descent linear model\n",
    "x_hat = np.linspace(x.min(), x.max(), 10)\n",
    "y_hat = coefficients[-1][0] + x_hat*coefficients[-1][1]\n",
    "x_hat_label = f\"Trendline: $y = {coefficients[-1][0]}x + {coefficients[-1][1]}$\"  \n",
    "plt.plot(x_hat, y_hat, marker = '', c = 'b', label = x_hat_label)  # Plots trendline with no markers\n",
    "\n",
    "plt.grid(True)  # Adds a grid to facilitate reading of datapoints on graph\n",
    "plt.xlabel(x_label)\n",
    "plt.ylabel(y_label)\n",
    "plt.title(f\"{y_label}  vs  {x_label}\")\n",
    "plt.legend()\n",
    "plt.show()"
   ]
  }
 ],
 "metadata": {
  "kernelspec": {
   "display_name": "Python 3 (ipykernel)",
   "language": "python",
   "name": "python3"
  },
  "language_info": {
   "codemirror_mode": {
    "name": "ipython",
    "version": 3
   },
   "file_extension": ".py",
   "mimetype": "text/x-python",
   "name": "python",
   "nbconvert_exporter": "python",
   "pygments_lexer": "ipython3",
   "version": "3.12.3"
  }
 },
 "nbformat": 4,
 "nbformat_minor": 5
}
